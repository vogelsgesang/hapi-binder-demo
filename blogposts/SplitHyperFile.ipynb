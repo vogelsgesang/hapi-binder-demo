{
 "cells": [
  {
   "cell_type": "code",
   "execution_count": 33,
   "metadata": {},
   "outputs": [
    {
     "name": "stdout",
     "output_type": "stream",
     "text": [
      "Creating 'WorldIndicators_2012.hyper'...'\n",
      "Creating 'WorldIndicators_2007.hyper'...'\n",
      "Creating 'WorldIndicators_2002.hyper'...'\n",
      "Creating 'WorldIndicators_2001.hyper'...'\n",
      "Creating 'WorldIndicators_2010.hyper'...'\n",
      "Creating 'WorldIndicators_2000.hyper'...'\n",
      "Creating 'WorldIndicators_2009.hyper'...'\n",
      "Creating 'WorldIndicators_2005.hyper'...'\n",
      "Creating 'WorldIndicators_2006.hyper'...'\n",
      "Creating 'WorldIndicators_2008.hyper'...'\n",
      "Creating 'WorldIndicators_2004.hyper'...'\n",
      "Creating 'WorldIndicators_2011.hyper'...'\n",
      "Creating 'WorldIndicators_2003.hyper'...'\n"
     ]
    }
   ],
   "source": [
    "from tableauhyperapi import HyperProcess, Connection, Telemetry, TableDefinition, QualifiedName\n",
    "\n",
    "source_file = 'WorldIndicators.hyper'\n",
    "target_file_pattern = 'WorldIndicators_{0}.hyper'\n",
    "table_name = QualifiedName('Extract','Extract')\n",
    "split_expression = 'EXTRACT(YEAR FROM \"Year\")'\n",
    "\n",
    "# Start a new Hyper instance\n",
    "with HyperProcess(Telemetry.DO_NOT_SEND_USAGE_DATA_TO_TABLEAU, 'hypersplitter') as hyper:\n",
    "    # Connect to the extract we want to split into multiple Extracts\n",
    "    with Connection(hyper.endpoint) as connection:\n",
    "        connection.catalog.attach_database(source_file, alias=\"source\")\n",
    "        namespace_name = connection.catalog.get_table_definition(table_name).name.prefix.simple_name\n",
    "        split_domain = connection.execute_result_list(f\"SELECT DISTINCT {split_expression} FROM source.{table_name}\")\n",
    "        for domain_row in split_domain:\n",
    "            domain_value = domain_row[0]\n",
    "            target_file = target_file_pattern.format(domain_value)\n",
    "            print(f\"Creating '{target_file}'...'\")\n",
    "            connection.catalog.create_database(target_file)\n",
    "            connection.catalog.attach_database(target_file, alias=\"target\")\n",
    "            connection.execute_command(f\"CREATE SCHEMA target.{namespace_name}\")\n",
    "            connection.execute_command(f\"\"\"\n",
    "                CREATE TABLE target.{table_name} AS\n",
    "                SELECT * FROM source.{table_name}\n",
    "                WHERE {split_expression} = {domain_value}\n",
    "                \"\"\")\n",
    "            connection.catalog.detach_database(\"target\")"
   ]
  },
  {
   "cell_type": "code",
   "execution_count": null,
   "metadata": {},
   "outputs": [],
   "source": []
  }
 ],
 "metadata": {
  "kernelspec": {
   "display_name": "Python 3",
   "language": "python",
   "name": "python3"
  },
  "language_info": {
   "codemirror_mode": {
    "name": "ipython",
    "version": 3
   },
   "file_extension": ".py",
   "mimetype": "text/x-python",
   "name": "python",
   "nbconvert_exporter": "python",
   "pygments_lexer": "ipython3",
   "version": "3.8.0"
  }
 },
 "nbformat": 4,
 "nbformat_minor": 4
}
